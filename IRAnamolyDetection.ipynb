{
  "nbformat": 4,
  "nbformat_minor": 0,
  "metadata": {
    "colab": {
      "provenance": [],
      "machine_shape": "hm",
      "gpuType": "T4"
    },
    "kernelspec": {
      "name": "python3",
      "display_name": "Python 3"
    },
    "language_info": {
      "name": "python"
    },
    "accelerator": "GPU"
  },
  "cells": [
    {
      "cell_type": "code",
      "execution_count": null,
      "metadata": {
        "id": "MhLSbarSJ6Wg"
      },
      "outputs": [],
      "source": [
        "import os\n",
        "import json\n",
        "import numpy as np\n",
        "from PIL import Image\n",
        "from sklearn.model_selection import train_test_split\n",
        "from sklearn.preprocessing import LabelEncoder\n",
        "from tensorflow.keras.preprocessing.image import img_to_array\n",
        "from tensorflow.keras.utils import to_categorical\n",
        "from google.colab import drive\n",
        "import tensorflow as tf\n",
        "import cv2\n"
      ]
    },
    {
      "cell_type": "code",
      "source": [
        "drive.mount('/content/drive')"
      ],
      "metadata": {
        "colab": {
          "base_uri": "https://localhost:8080/"
        },
        "id": "SEIgikpsKf9k",
        "outputId": "3334eb7a-f43b-4c5b-ce79-91a97fb827b6"
      },
      "execution_count": null,
      "outputs": [
        {
          "output_type": "stream",
          "name": "stdout",
          "text": [
            "Mounted at /content/drive\n"
          ]
        }
      ]
    },
    {
      "cell_type": "code",
      "source": [
        "# import zipfile\n",
        "# import os\n",
        "\n",
        "# # Path to the ZIP file\n",
        "# zip_file_path = '/content/drive/My Drive/2020-02-14_InfraredSolarModules.zip'\n",
        "\n",
        "# # Extract the ZIP file\n",
        "# with zipfile.ZipFile(zip_file_path, 'r') as zip_ref:\n",
        "#     zip_ref.extractall('/content/drive/My Drive/extracted_files')\n",
        "\n",
        "# # Access the extracted files\n",
        "# extracted_images_dir = '/content/drive/My Drive/extracted_files/images'\n",
        "# metadata_path = '/content/drive/My Drive/extracted_files/module_metadata.json'\n"
      ],
      "metadata": {
        "id": "6aADJAghKzFN"
      },
      "execution_count": null,
      "outputs": []
    },
    {
      "cell_type": "code",
      "source": [
        "image_dir = '/content/drive/My Drive/extracted_files/InfraredSolarModules'\n",
        "metadata_path = '/content/drive/My Drive/extracted_files/InfraredSolarModules/module_metadata.json'\n"
      ],
      "metadata": {
        "id": "PTCeg_msMsAR"
      },
      "execution_count": null,
      "outputs": []
    },
    {
      "cell_type": "code",
      "source": [
        "with open(metadata_path, 'r') as f:\n",
        "    metadata = json.load(f)\n",
        "\n",
        "# Prepare lists for images and labels\n",
        "image_paths = []\n",
        "labels = []\n",
        "\n",
        "for image_id, info in metadata.items():\n",
        "    image_paths.append(os.path.join(image_dir, info['image_filepath']))\n",
        "    labels.append(info['anomaly_class'])\n",
        "\n",
        "from collections import Counter\n",
        "\n",
        "# Count the number of occurrences of each label\n",
        "label_counts = Counter(labels)\n",
        "\n",
        "# Print the count for each label\n",
        "for label, count in label_counts.items():\n",
        "    print(f\"Label: {label}, Count: {count}\")\n",
        "\n",
        "\n",
        "# Encode labels\n",
        "label_encoder = LabelEncoder()\n",
        "labels_encoded = label_encoder.fit_transform(labels)\n",
        "labels_one_hot = to_categorical(labels_encoded)\n"
      ],
      "metadata": {
        "id": "rFf3eAYYMdZu",
        "colab": {
          "base_uri": "https://localhost:8080/"
        },
        "outputId": "6c4da214-e8e8-470e-f225-4d2df620b845"
      },
      "execution_count": null,
      "outputs": [
        {
          "output_type": "stream",
          "name": "stdout",
          "text": [
            "Label: No-Anomaly, Count: 10000\n",
            "Label: Cell, Count: 1877\n",
            "Label: Hot-Spot, Count: 249\n",
            "Label: Offline-Module, Count: 827\n",
            "Label: Vegetation, Count: 1639\n",
            "Label: Diode, Count: 1499\n",
            "Label: Shadowing, Count: 1056\n",
            "Label: Cracking, Count: 940\n",
            "Label: Diode-Multi, Count: 175\n",
            "Label: Hot-Spot-Multi, Count: 246\n",
            "Label: Cell-Multi, Count: 1288\n",
            "Label: Soiling, Count: 204\n"
          ]
        }
      ]
    },
    {
      "cell_type": "code",
      "source": [
        "# import concurrent.futures\n",
        "# import cv2\n",
        "# import numpy as np\n",
        "# i=0\n",
        "\n",
        "# def load_and_preprocess_image(path):\n",
        "#     image = cv2.imread(path)\n",
        "#     image = cv2.cvtColor(image, cv2.COLOR_BGR2RGB)\n",
        "#     # image = cv2.resize(image, (224, 224))  # Resize to a larger size\n",
        "#     # image_array = image / 255.0\n",
        "#     return image\n",
        "\n",
        "\n",
        "# with concurrent.futures.ProcessPoolExecutor() as executor:\n",
        "#     images = list(executor.map(load_and_preprocess_image, image_paths))\n",
        "\n"
      ],
      "metadata": {
        "colab": {
          "base_uri": "https://localhost:8080/"
        },
        "id": "tHG75HBWMuSX",
        "outputId": "a7ddc23e-fe3f-457a-b534-b5f6f28a53e0"
      },
      "execution_count": null,
      "outputs": [
        {
          "output_type": "stream",
          "name": "stderr",
          "text": [
            "/usr/lib/python3.10/multiprocessing/popen_fork.py:66: RuntimeWarning: os.fork() was called. os.fork() is incompatible with multithreaded code, and JAX is multithreaded, so this will likely lead to a deadlock.\n",
            "  self.pid = os.fork()\n"
          ]
        }
      ]
    },
    {
      "cell_type": "code",
      "source": [
        "# images_array = np.array(images)\n",
        "# np.save('processed_images.npy', images_array)"
      ],
      "metadata": {
        "id": "d5bm-0RnND6X"
      },
      "execution_count": null,
      "outputs": []
    },
    {
      "cell_type": "code",
      "source": [
        "images_array = np.load('/content/processed_images.npy')"
      ],
      "metadata": {
        "id": "7hwTCRQBSVKQ"
      },
      "execution_count": null,
      "outputs": []
    },
    {
      "cell_type": "code",
      "source": [
        "resized_images = np.zeros((len(images_array), 24, 40, 3), dtype=np.float32)\n",
        "\n",
        "# Resize images and normalize them\n",
        "for i in range(len(images_array)):\n",
        "    resized_images[i] = cv2.resize(images_array[i], (40, 24))  # Resize to (width, height)\n",
        "    resized_images[i] /= 255.0  # Normalize the image\n",
        "\n",
        "X_train, X_test, y_train, y_test = train_test_split(resized_images, labels_one_hot, test_size=0.2, random_state=42)\n"
      ],
      "metadata": {
        "id": "51hSLM5WNkQp"
      },
      "execution_count": null,
      "outputs": []
    },
    {
      "cell_type": "code",
      "source": [
        "from tensorflow.keras.models import Sequential\n",
        "from tensorflow.keras.layers import Conv2D, MaxPooling2D, Flatten, Dense, Dropout\n",
        "\n",
        "model = Sequential([\n",
        "    Conv2D(32, (3, 3), activation='relu', padding='same', input_shape=(24, 40, 3)),\n",
        "    Conv2D(64, (3, 3), activation='relu', padding='same'),\n",
        "    MaxPooling2D(pool_size=(2, 2)),\n",
        "\n",
        "    Conv2D(128, (3, 3), activation='relu', padding='same'),\n",
        "    Conv2D(128, (3, 3), activation='relu', padding='same'),\n",
        "    MaxPooling2D(pool_size=(2, 2)),\n",
        "\n",
        "    Conv2D(256, (3, 3), activation='relu', padding='same'),\n",
        "    Conv2D(256, (3, 3), activation='relu', padding='same'),\n",
        "    MaxPooling2D(pool_size=(2, 2)),\n",
        "\n",
        "    Conv2D(512, (3, 3), activation='relu', padding='same'),\n",
        "    Conv2D(512, (3, 3), activation='relu', padding='same'),\n",
        "    MaxPooling2D(pool_size=(2, 2)),\n",
        "\n",
        "    Flatten(),\n",
        "    Dense(1024, activation='relu'),\n",
        "    Dropout(0.5),\n",
        "    Dense(512, activation='relu'),\n",
        "    Dropout(0.5),\n",
        "    Dense(len(label_encoder.classes_), activation='softmax')\n",
        "])\n"
      ],
      "metadata": {
        "colab": {
          "base_uri": "https://localhost:8080/"
        },
        "id": "MkTJWpuUOgXi",
        "outputId": "5726e5d3-0276-4623-f31d-277ab8ad2b22"
      },
      "execution_count": null,
      "outputs": [
        {
          "output_type": "stream",
          "name": "stderr",
          "text": [
            "/usr/local/lib/python3.10/dist-packages/keras/src/layers/convolutional/base_conv.py:107: UserWarning: Do not pass an `input_shape`/`input_dim` argument to a layer. When using Sequential models, prefer using an `Input(shape)` object as the first layer in the model instead.\n",
            "  super().__init__(activity_regularizer=activity_regularizer, **kwargs)\n"
          ]
        }
      ]
    },
    {
      "cell_type": "code",
      "source": [
        "from tensorflow.keras.optimizers import Adam\n",
        "\n",
        "optimizer = Adam(learning_rate=0.001)  # Try different learning rates\n",
        "model.compile(optimizer=optimizer, loss='categorical_crossentropy', metrics=['accuracy'])\n"
      ],
      "metadata": {
        "id": "x84QU-xOskMn"
      },
      "execution_count": null,
      "outputs": []
    },
    {
      "cell_type": "code",
      "source": [
        "history = model.fit(\n",
        "    X_train, y_train,\n",
        "    epochs=30,\n",
        "    batch_size=64,\n",
        "    validation_split=0.2,\n",
        "    callbacks=[tf.keras.callbacks.EarlyStopping(monitor='val_loss', patience=5)]\n",
        ")\n"
      ],
      "metadata": {
        "colab": {
          "base_uri": "https://localhost:8080/"
        },
        "id": "GRmGfLA4OjUV",
        "outputId": "192feb64-e508-44ca-f101-91afa9803e24"
      },
      "execution_count": null,
      "outputs": [
        {
          "output_type": "stream",
          "name": "stdout",
          "text": [
            "Epoch 1/30\n",
            "\u001b[1m200/200\u001b[0m \u001b[32m━━━━━━━━━━━━━━━━━━━━\u001b[0m\u001b[37m\u001b[0m \u001b[1m15s\u001b[0m 33ms/step - accuracy: 0.4841 - loss: 2.1556 - val_accuracy: 0.4875 - val_loss: 1.8152\n",
            "Epoch 2/30\n",
            "\u001b[1m200/200\u001b[0m \u001b[32m━━━━━━━━━━━━━━━━━━━━\u001b[0m\u001b[37m\u001b[0m \u001b[1m4s\u001b[0m 22ms/step - accuracy: 0.4954 - loss: 1.7835 - val_accuracy: 0.4875 - val_loss: 1.7382\n",
            "Epoch 3/30\n",
            "\u001b[1m200/200\u001b[0m \u001b[32m━━━━━━━━━━━━━━━━━━━━\u001b[0m\u001b[37m\u001b[0m \u001b[1m4s\u001b[0m 22ms/step - accuracy: 0.5050 - loss: 1.7071 - val_accuracy: 0.5716 - val_loss: 1.4562\n",
            "Epoch 4/30\n",
            "\u001b[1m200/200\u001b[0m \u001b[32m━━━━━━━━━━━━━━━━━━━━\u001b[0m\u001b[37m\u001b[0m \u001b[1m4s\u001b[0m 22ms/step - accuracy: 0.5858 - loss: 1.3790 - val_accuracy: 0.6438 - val_loss: 1.1962\n",
            "Epoch 5/30\n",
            "\u001b[1m200/200\u001b[0m \u001b[32m━━━━━━━━━━━━━━━━━━━━\u001b[0m\u001b[37m\u001b[0m \u001b[1m4s\u001b[0m 22ms/step - accuracy: 0.6546 - loss: 1.1556 - val_accuracy: 0.6687 - val_loss: 1.0786\n",
            "Epoch 6/30\n",
            "\u001b[1m200/200\u001b[0m \u001b[32m━━━━━━━━━━━━━━━━━━━━\u001b[0m\u001b[37m\u001b[0m \u001b[1m4s\u001b[0m 22ms/step - accuracy: 0.6754 - loss: 1.0841 - val_accuracy: 0.6831 - val_loss: 1.0395\n",
            "Epoch 7/30\n",
            "\u001b[1m200/200\u001b[0m \u001b[32m━━━━━━━━━━━━━━━━━━━━\u001b[0m\u001b[37m\u001b[0m \u001b[1m4s\u001b[0m 22ms/step - accuracy: 0.6832 - loss: 1.0234 - val_accuracy: 0.6872 - val_loss: 1.0025\n",
            "Epoch 8/30\n",
            "\u001b[1m200/200\u001b[0m \u001b[32m━━━━━━━━━━━━━━━━━━━━\u001b[0m\u001b[37m\u001b[0m \u001b[1m4s\u001b[0m 22ms/step - accuracy: 0.6970 - loss: 0.9513 - val_accuracy: 0.7009 - val_loss: 0.9640\n",
            "Epoch 9/30\n",
            "\u001b[1m200/200\u001b[0m \u001b[32m━━━━━━━━━━━━━━━━━━━━\u001b[0m\u001b[37m\u001b[0m \u001b[1m4s\u001b[0m 21ms/step - accuracy: 0.7200 - loss: 0.8761 - val_accuracy: 0.7063 - val_loss: 0.9500\n",
            "Epoch 10/30\n",
            "\u001b[1m200/200\u001b[0m \u001b[32m━━━━━━━━━━━━━━━━━━━━\u001b[0m\u001b[37m\u001b[0m \u001b[1m4s\u001b[0m 21ms/step - accuracy: 0.7318 - loss: 0.8197 - val_accuracy: 0.7191 - val_loss: 0.9199\n",
            "Epoch 11/30\n",
            "\u001b[1m200/200\u001b[0m \u001b[32m━━━━━━━━━━━━━━━━━━━━\u001b[0m\u001b[37m\u001b[0m \u001b[1m4s\u001b[0m 21ms/step - accuracy: 0.7466 - loss: 0.7723 - val_accuracy: 0.7237 - val_loss: 0.9296\n",
            "Epoch 12/30\n",
            "\u001b[1m200/200\u001b[0m \u001b[32m━━━━━━━━━━━━━━━━━━━━\u001b[0m\u001b[37m\u001b[0m \u001b[1m4s\u001b[0m 21ms/step - accuracy: 0.7520 - loss: 0.7337 - val_accuracy: 0.7328 - val_loss: 0.8392\n",
            "Epoch 13/30\n",
            "\u001b[1m200/200\u001b[0m \u001b[32m━━━━━━━━━━━━━━━━━━━━\u001b[0m\u001b[37m\u001b[0m \u001b[1m4s\u001b[0m 21ms/step - accuracy: 0.7733 - loss: 0.6771 - val_accuracy: 0.7188 - val_loss: 0.8907\n",
            "Epoch 14/30\n",
            "\u001b[1m200/200\u001b[0m \u001b[32m━━━━━━━━━━━━━━━━━━━━\u001b[0m\u001b[37m\u001b[0m \u001b[1m4s\u001b[0m 21ms/step - accuracy: 0.7826 - loss: 0.6457 - val_accuracy: 0.7428 - val_loss: 0.8396\n",
            "Epoch 15/30\n",
            "\u001b[1m200/200\u001b[0m \u001b[32m━━━━━━━━━━━━━━━━━━━━\u001b[0m\u001b[37m\u001b[0m \u001b[1m4s\u001b[0m 21ms/step - accuracy: 0.8006 - loss: 0.5754 - val_accuracy: 0.7384 - val_loss: 0.8741\n",
            "Epoch 16/30\n",
            "\u001b[1m200/200\u001b[0m \u001b[32m━━━━━━━━━━━━━━━━━━━━\u001b[0m\u001b[37m\u001b[0m \u001b[1m4s\u001b[0m 21ms/step - accuracy: 0.8179 - loss: 0.5461 - val_accuracy: 0.7425 - val_loss: 0.8150\n",
            "Epoch 17/30\n",
            "\u001b[1m200/200\u001b[0m \u001b[32m━━━━━━━━━━━━━━━━━━━━\u001b[0m\u001b[37m\u001b[0m \u001b[1m4s\u001b[0m 21ms/step - accuracy: 0.8377 - loss: 0.4849 - val_accuracy: 0.7362 - val_loss: 0.8900\n",
            "Epoch 18/30\n",
            "\u001b[1m200/200\u001b[0m \u001b[32m━━━━━━━━━━━━━━━━━━━━\u001b[0m\u001b[37m\u001b[0m \u001b[1m4s\u001b[0m 21ms/step - accuracy: 0.8368 - loss: 0.4790 - val_accuracy: 0.7453 - val_loss: 0.8708\n",
            "Epoch 19/30\n",
            "\u001b[1m200/200\u001b[0m \u001b[32m━━━━━━━━━━━━━━━━━━━━\u001b[0m\u001b[37m\u001b[0m \u001b[1m4s\u001b[0m 21ms/step - accuracy: 0.8548 - loss: 0.4181 - val_accuracy: 0.7394 - val_loss: 0.9094\n",
            "Epoch 20/30\n",
            "\u001b[1m200/200\u001b[0m \u001b[32m━━━━━━━━━━━━━━━━━━━━\u001b[0m\u001b[37m\u001b[0m \u001b[1m4s\u001b[0m 21ms/step - accuracy: 0.8575 - loss: 0.3987 - val_accuracy: 0.7563 - val_loss: 0.9503\n",
            "Epoch 21/30\n",
            "\u001b[1m200/200\u001b[0m \u001b[32m━━━━━━━━━━━━━━━━━━━━\u001b[0m\u001b[37m\u001b[0m \u001b[1m4s\u001b[0m 21ms/step - accuracy: 0.8749 - loss: 0.3579 - val_accuracy: 0.7534 - val_loss: 0.9455\n"
          ]
        }
      ]
    },
    {
      "cell_type": "code",
      "source": [
        "from sklearn.metrics import accuracy_score, precision_score, recall_score, f1_score\n",
        "y_pred = model.predict(X_test)\n",
        "y_pred_classes = np.argmax(y_pred, axis=1)\n",
        "y_true_classes = np.argmax(y_test, axis=1)\n",
        "\n",
        "accuracy_score(y_pred_classes,y_true_classes)"
      ],
      "metadata": {
        "colab": {
          "base_uri": "https://localhost:8080/"
        },
        "id": "RwCuDsJKmj2E",
        "outputId": "a1984a4d-edd6-4667-bc8f-efe07e33fb90"
      },
      "execution_count": null,
      "outputs": [
        {
          "output_type": "stream",
          "name": "stdout",
          "text": [
            "\u001b[1m125/125\u001b[0m \u001b[32m━━━━━━━━━━━━━━━━━━━━\u001b[0m\u001b[37m\u001b[0m \u001b[1m1s\u001b[0m 4ms/step\n"
          ]
        },
        {
          "output_type": "execute_result",
          "data": {
            "text/plain": [
              "0.7675"
            ]
          },
          "metadata": {},
          "execution_count": 16
        }
      ]
    },
    {
      "cell_type": "markdown",
      "source": [
        "##Second Model\n"
      ],
      "metadata": {
        "id": "rgak7Qav2vUr"
      }
    },
    {
      "cell_type": "code",
      "source": [
        "\n",
        "\n",
        "from tensorflow.keras.applications import DenseNet121\n",
        "from tensorflow.keras.models import Model\n",
        "from tensorflow.keras.layers import Dense, Flatten, Dropout\n",
        "\n",
        "# Load DenseNet121 model pre-trained on ImageNet without the top classification layers\n",
        "base_model = DenseNet121(weights='imagenet', include_top=False, input_shape=(32, 32, 3))\n",
        "\n",
        "base_model.trainable = False\n",
        "\n",
        "\n",
        "x = base_model.output\n",
        "x = Flatten()(x)\n",
        "x = Dense(1024, activation='relu')(x)\n",
        "x = Dropout(0.5)(x)\n",
        "x = Dense(512, activation='relu')(x)\n",
        "x = Dropout(0.5)(x)\n",
        "predictions = Dense(len(label_encoder.classes_), activation='softmax')(x)\n",
        "\n",
        "model = Model(inputs=base_model.input, outputs=predictions)\n",
        "\n",
        "\n",
        "model.compile(optimizer='adam',\n",
        "              loss='categorical_crossentropy',\n",
        "              metrics=['accuracy'])\n",
        "\n",
        "# Check the model summary\n",
        "# model.summary()\n"
      ],
      "metadata": {
        "id": "8usydRnZ0Cl6"
      },
      "execution_count": null,
      "outputs": []
    },
    {
      "cell_type": "code",
      "source": [
        "history = model.fit(\n",
        "    X_train, y_train,\n",
        "    epochs=30,\n",
        "    batch_size=32,\n",
        "    validation_split=0.2,\n",
        "    callbacks=[tf.keras.callbacks.EarlyStopping(monitor='val_loss', patience=5)]\n",
        ")"
      ],
      "metadata": {
        "colab": {
          "base_uri": "https://localhost:8080/"
        },
        "id": "xZ5v3x7S06kW",
        "outputId": "65e489b8-9c7a-42d0-d754-36f8df344ae4"
      },
      "execution_count": null,
      "outputs": [
        {
          "output_type": "stream",
          "name": "stdout",
          "text": [
            "Epoch 1/30\n",
            "\u001b[1m400/400\u001b[0m \u001b[32m━━━━━━━━━━━━━━━━━━━━\u001b[0m\u001b[37m\u001b[0m \u001b[1m34s\u001b[0m 32ms/step - accuracy: 0.5387 - loss: 1.5769 - val_accuracy: 0.6472 - val_loss: 1.1638\n",
            "Epoch 2/30\n",
            "\u001b[1m400/400\u001b[0m \u001b[32m━━━━━━━━━━━━━━━━━━━━\u001b[0m\u001b[37m\u001b[0m \u001b[1m5s\u001b[0m 12ms/step - accuracy: 0.6405 - loss: 1.1970 - val_accuracy: 0.6653 - val_loss: 1.0739\n",
            "Epoch 3/30\n",
            "\u001b[1m400/400\u001b[0m \u001b[32m━━━━━━━━━━━━━━━━━━━━\u001b[0m\u001b[37m\u001b[0m \u001b[1m5s\u001b[0m 12ms/step - accuracy: 0.6556 - loss: 1.1193 - val_accuracy: 0.6809 - val_loss: 1.0162\n",
            "Epoch 4/30\n",
            "\u001b[1m400/400\u001b[0m \u001b[32m━━━━━━━━━━━━━━━━━━━━\u001b[0m\u001b[37m\u001b[0m \u001b[1m5s\u001b[0m 12ms/step - accuracy: 0.6780 - loss: 1.0335 - val_accuracy: 0.6819 - val_loss: 1.0021\n",
            "Epoch 5/30\n",
            "\u001b[1m400/400\u001b[0m \u001b[32m━━━━━━━━━━━━━━━━━━━━\u001b[0m\u001b[37m\u001b[0m \u001b[1m5s\u001b[0m 12ms/step - accuracy: 0.6842 - loss: 1.0150 - val_accuracy: 0.6897 - val_loss: 0.9940\n",
            "Epoch 6/30\n",
            "\u001b[1m400/400\u001b[0m \u001b[32m━━━━━━━━━━━━━━━━━━━━\u001b[0m\u001b[37m\u001b[0m \u001b[1m5s\u001b[0m 12ms/step - accuracy: 0.6958 - loss: 0.9779 - val_accuracy: 0.6928 - val_loss: 0.9721\n",
            "Epoch 7/30\n",
            "\u001b[1m400/400\u001b[0m \u001b[32m━━━━━━━━━━━━━━━━━━━━\u001b[0m\u001b[37m\u001b[0m \u001b[1m5s\u001b[0m 12ms/step - accuracy: 0.6968 - loss: 0.9663 - val_accuracy: 0.6909 - val_loss: 0.9891\n",
            "Epoch 8/30\n",
            "\u001b[1m400/400\u001b[0m \u001b[32m━━━━━━━━━━━━━━━━━━━━\u001b[0m\u001b[37m\u001b[0m \u001b[1m5s\u001b[0m 12ms/step - accuracy: 0.6982 - loss: 0.9561 - val_accuracy: 0.7038 - val_loss: 0.9509\n",
            "Epoch 9/30\n",
            "\u001b[1m400/400\u001b[0m \u001b[32m━━━━━━━━━━━━━━━━━━━━\u001b[0m\u001b[37m\u001b[0m \u001b[1m5s\u001b[0m 12ms/step - accuracy: 0.7015 - loss: 0.9359 - val_accuracy: 0.6959 - val_loss: 0.9467\n",
            "Epoch 10/30\n",
            "\u001b[1m400/400\u001b[0m \u001b[32m━━━━━━━━━━━━━━━━━━━━\u001b[0m\u001b[37m\u001b[0m \u001b[1m5s\u001b[0m 12ms/step - accuracy: 0.7112 - loss: 0.8976 - val_accuracy: 0.7000 - val_loss: 0.9457\n",
            "Epoch 11/30\n",
            "\u001b[1m400/400\u001b[0m \u001b[32m━━━━━━━━━━━━━━━━━━━━\u001b[0m\u001b[37m\u001b[0m \u001b[1m5s\u001b[0m 12ms/step - accuracy: 0.7096 - loss: 0.9013 - val_accuracy: 0.7113 - val_loss: 0.9330\n",
            "Epoch 12/30\n",
            "\u001b[1m400/400\u001b[0m \u001b[32m━━━━━━━━━━━━━━━━━━━━\u001b[0m\u001b[37m\u001b[0m \u001b[1m5s\u001b[0m 12ms/step - accuracy: 0.7175 - loss: 0.8634 - val_accuracy: 0.7122 - val_loss: 0.9340\n",
            "Epoch 13/30\n",
            "\u001b[1m400/400\u001b[0m \u001b[32m━━━━━━━━━━━━━━━━━━━━\u001b[0m\u001b[37m\u001b[0m \u001b[1m5s\u001b[0m 12ms/step - accuracy: 0.7208 - loss: 0.8720 - val_accuracy: 0.7075 - val_loss: 0.9302\n",
            "Epoch 14/30\n",
            "\u001b[1m400/400\u001b[0m \u001b[32m━━━━━━━━━━━━━━━━━━━━\u001b[0m\u001b[37m\u001b[0m \u001b[1m5s\u001b[0m 12ms/step - accuracy: 0.7306 - loss: 0.8217 - val_accuracy: 0.7144 - val_loss: 0.9170\n",
            "Epoch 15/30\n",
            "\u001b[1m400/400\u001b[0m \u001b[32m━━━━━━━━━━━━━━━━━━━━\u001b[0m\u001b[37m\u001b[0m \u001b[1m5s\u001b[0m 12ms/step - accuracy: 0.7286 - loss: 0.8422 - val_accuracy: 0.7159 - val_loss: 0.9118\n",
            "Epoch 16/30\n",
            "\u001b[1m400/400\u001b[0m \u001b[32m━━━━━━━━━━━━━━━━━━━━\u001b[0m\u001b[37m\u001b[0m \u001b[1m5s\u001b[0m 12ms/step - accuracy: 0.7353 - loss: 0.8078 - val_accuracy: 0.7144 - val_loss: 0.9114\n",
            "Epoch 17/30\n",
            "\u001b[1m400/400\u001b[0m \u001b[32m━━━━━━━━━━━━━━━━━━━━\u001b[0m\u001b[37m\u001b[0m \u001b[1m5s\u001b[0m 12ms/step - accuracy: 0.7362 - loss: 0.8137 - val_accuracy: 0.7228 - val_loss: 0.9280\n",
            "Epoch 18/30\n",
            "\u001b[1m400/400\u001b[0m \u001b[32m━━━━━━━━━━━━━━━━━━━━\u001b[0m\u001b[37m\u001b[0m \u001b[1m5s\u001b[0m 12ms/step - accuracy: 0.7449 - loss: 0.7759 - val_accuracy: 0.7200 - val_loss: 0.9126\n",
            "Epoch 19/30\n",
            "\u001b[1m400/400\u001b[0m \u001b[32m━━━━━━━━━━━━━━━━━━━━\u001b[0m\u001b[37m\u001b[0m \u001b[1m5s\u001b[0m 12ms/step - accuracy: 0.7552 - loss: 0.7559 - val_accuracy: 0.7203 - val_loss: 0.9237\n",
            "Epoch 20/30\n",
            "\u001b[1m400/400\u001b[0m \u001b[32m━━━━━━━━━━━━━━━━━━━━\u001b[0m\u001b[37m\u001b[0m \u001b[1m5s\u001b[0m 12ms/step - accuracy: 0.7457 - loss: 0.7448 - val_accuracy: 0.7191 - val_loss: 0.9178\n",
            "Epoch 21/30\n",
            "\u001b[1m400/400\u001b[0m \u001b[32m━━━━━━━━━━━━━━━━━━━━\u001b[0m\u001b[37m\u001b[0m \u001b[1m5s\u001b[0m 12ms/step - accuracy: 0.7552 - loss: 0.7302 - val_accuracy: 0.7216 - val_loss: 0.9080\n",
            "Epoch 22/30\n",
            "\u001b[1m400/400\u001b[0m \u001b[32m━━━━━━━━━━━━━━━━━━━━\u001b[0m\u001b[37m\u001b[0m \u001b[1m5s\u001b[0m 12ms/step - accuracy: 0.7591 - loss: 0.7367 - val_accuracy: 0.7172 - val_loss: 0.8984\n",
            "Epoch 23/30\n",
            "\u001b[1m400/400\u001b[0m \u001b[32m━━━━━━━━━━━━━━━━━━━━\u001b[0m\u001b[37m\u001b[0m \u001b[1m5s\u001b[0m 12ms/step - accuracy: 0.7631 - loss: 0.6990 - val_accuracy: 0.7131 - val_loss: 0.9331\n",
            "Epoch 24/30\n",
            "\u001b[1m400/400\u001b[0m \u001b[32m━━━━━━━━━━━━━━━━━━━━\u001b[0m\u001b[37m\u001b[0m \u001b[1m5s\u001b[0m 12ms/step - accuracy: 0.7619 - loss: 0.7140 - val_accuracy: 0.7178 - val_loss: 0.9263\n",
            "Epoch 25/30\n",
            "\u001b[1m400/400\u001b[0m \u001b[32m━━━━━━━━━━━━━━━━━━━━\u001b[0m\u001b[37m\u001b[0m \u001b[1m5s\u001b[0m 12ms/step - accuracy: 0.7718 - loss: 0.7006 - val_accuracy: 0.7194 - val_loss: 0.9121\n",
            "Epoch 26/30\n",
            "\u001b[1m400/400\u001b[0m \u001b[32m━━━━━━━━━━━━━━━━━━━━\u001b[0m\u001b[37m\u001b[0m \u001b[1m5s\u001b[0m 12ms/step - accuracy: 0.7707 - loss: 0.6990 - val_accuracy: 0.7203 - val_loss: 0.9486\n",
            "Epoch 27/30\n",
            "\u001b[1m400/400\u001b[0m \u001b[32m━━━━━━━━━━━━━━━━━━━━\u001b[0m\u001b[37m\u001b[0m \u001b[1m5s\u001b[0m 12ms/step - accuracy: 0.7762 - loss: 0.6598 - val_accuracy: 0.7191 - val_loss: 0.9416\n"
          ]
        }
      ]
    },
    {
      "cell_type": "code",
      "source": [
        "from sklearn.metrics import accuracy_score, precision_score, recall_score, f1_score\n",
        "y_pred = model.predict(X_test)\n",
        "y_pred_classes = np.argmax(y_pred, axis=1)\n",
        "y_true_classes = np.argmax(y_test, axis=1)\n",
        "\n",
        "accuracy_score(y_pred_classes,y_true_classes)"
      ],
      "metadata": {
        "colab": {
          "base_uri": "https://localhost:8080/"
        },
        "id": "LQqQH5a81aQd",
        "outputId": "5f0dd0d1-c228-49c2-b7d7-179f636118a1"
      },
      "execution_count": null,
      "outputs": [
        {
          "output_type": "stream",
          "name": "stdout",
          "text": [
            "\u001b[1m125/125\u001b[0m \u001b[32m━━━━━━━━━━━━━━━━━━━━\u001b[0m\u001b[37m\u001b[0m \u001b[1m8s\u001b[0m 9ms/step\n"
          ]
        },
        {
          "output_type": "execute_result",
          "data": {
            "text/plain": [
              "0.721"
            ]
          },
          "metadata": {},
          "execution_count": 87
        }
      ]
    }
  ]
}